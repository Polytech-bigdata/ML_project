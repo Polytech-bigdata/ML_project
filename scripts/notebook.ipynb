{
 "cells": [
  {
   "cell_type": "markdown",
   "metadata": {},
   "source": [
    "# BigData API serving : notebook for pre-treatments"
   ]
  },
  {
   "cell_type": "code",
   "execution_count": 9,
   "metadata": {},
   "outputs": [
    {
     "name": "stdout",
     "output_type": "stream",
     "text": [
      "The autoreload extension is already loaded. To reload it, use:\n",
      "  %reload_ext autoreload\n"
     ]
    }
   ],
   "source": [
    "%load_ext autoreload\n",
    "%autoreload 2\n",
    "from utils import *"
   ]
  },
  {
   "cell_type": "code",
   "execution_count": 2,
   "metadata": {},
   "outputs": [],
   "source": [
    "csv_filepath = '../data/ref_data.csv'"
   ]
  },
  {
   "cell_type": "markdown",
   "metadata": {},
   "source": [
    "## Step 1 : load the dataset"
   ]
  },
  {
   "cell_type": "code",
   "execution_count": 5,
   "metadata": {},
   "outputs": [
    {
     "name": "stdout",
     "output_type": "stream",
     "text": [
      "Number of rows and columns with numerical values : (91713, 74)\n",
      "Number of rows and columns with categorical values : (91713, 7)\n",
      "y.shape = (91713,)\n",
      "X_num =        hospital_id   age        bmi  elective_surgery  height  icu_id  \\\n",
      "0              118  68.0  22.730000                 0   180.3      92   \n",
      "1               81  77.0  27.420000                 0   160.0      90   \n",
      "2              118  25.0  31.950000                 0   172.7      93   \n",
      "3              118  81.0  22.640000                 1   165.1      92   \n",
      "4               33  19.0        NaN                 0   188.0      91   \n",
      "...            ...   ...        ...               ...     ...     ...   \n",
      "91708           30  75.0  23.060250                 0   177.8     927   \n",
      "91709          121  56.0  47.179671                 0   183.0     925   \n",
      "91710          195  48.0  27.236914                 0   170.2     908   \n",
      "91711           66   NaN  23.297481                 0   154.9     922   \n",
      "91712          104  82.0  22.031250                 1   160.0     926   \n",
      "\n",
      "       pre_icu_los_days  weight  apache_2_diagnosis  apache_3j_diagnosis  ...  \\\n",
      "0              0.541667    73.9               113.0               502.01  ...   \n",
      "1              0.927778    70.2               108.0               203.01  ...   \n",
      "2              0.000694    95.3               122.0               703.03  ...   \n",
      "3              0.000694    61.7               203.0              1206.03  ...   \n",
      "4              0.073611     NaN               119.0               601.01  ...   \n",
      "...                 ...     ...                 ...                  ...  ...   \n",
      "91708          0.298611    72.9               113.0               501.06  ...   \n",
      "91709          0.120139   158.0               113.0               501.05  ...   \n",
      "91710          0.046528    78.9               123.0               702.01  ...   \n",
      "91711          0.081944    55.9               108.0               203.01  ...   \n",
      "91712          0.018056    56.4               304.0              1409.02  ...   \n",
      "\n",
      "       apache_4a_hospital_death_prob  apache_4a_icu_death_prob  aids  \\\n",
      "0                               0.10                      0.05   0.0   \n",
      "1                               0.47                      0.29   0.0   \n",
      "2                               0.00                      0.00   0.0   \n",
      "3                               0.04                      0.03   0.0   \n",
      "4                                NaN                       NaN   0.0   \n",
      "...                              ...                       ...   ...   \n",
      "91708                           0.12                      0.05   0.0   \n",
      "91709                           0.03                      0.02   0.0   \n",
      "91710                           0.05                      0.02   0.0   \n",
      "91711                           0.07                      0.02   0.0   \n",
      "91712                           0.19                      0.08   0.0   \n",
      "\n",
      "       cirrhosis  diabetes_mellitus  hepatic_failure  immunosuppression  \\\n",
      "0            0.0                1.0              0.0                0.0   \n",
      "1            0.0                1.0              0.0                0.0   \n",
      "2            0.0                0.0              0.0                0.0   \n",
      "3            0.0                0.0              0.0                0.0   \n",
      "4            0.0                0.0              0.0                0.0   \n",
      "...          ...                ...              ...                ...   \n",
      "91708        0.0                1.0              0.0                0.0   \n",
      "91709        0.0                0.0              0.0                0.0   \n",
      "91710        0.0                1.0              0.0                0.0   \n",
      "91711        0.0                0.0              0.0                0.0   \n",
      "91712        0.0                0.0              0.0                0.0   \n",
      "\n",
      "       leukemia  lymphoma  solid_tumor_with_metastasis  \n",
      "0           0.0       0.0                          0.0  \n",
      "1           0.0       0.0                          0.0  \n",
      "2           0.0       0.0                          0.0  \n",
      "3           0.0       0.0                          0.0  \n",
      "4           0.0       0.0                          0.0  \n",
      "...         ...       ...                          ...  \n",
      "91708       0.0       0.0                          1.0  \n",
      "91709       0.0       0.0                          0.0  \n",
      "91710       0.0       0.0                          0.0  \n",
      "91711       0.0       0.0                          0.0  \n",
      "91712       0.0       0.0                          0.0  \n",
      "\n",
      "[91713 rows x 74 columns]\n",
      "X_cat =        ethnicity gender           icu_admit_source icu_stay_type  \\\n",
      "0      Caucasian      M                      Floor         admit   \n",
      "1      Caucasian      F                      Floor         admit   \n",
      "2      Caucasian      F       Accident & Emergency         admit   \n",
      "3      Caucasian      F  Operating Room / Recovery         admit   \n",
      "4      Caucasian      M       Accident & Emergency         admit   \n",
      "...          ...    ...                        ...           ...   \n",
      "91708  Caucasian      M                      Floor         admit   \n",
      "91709  Caucasian      F                      Floor         admit   \n",
      "91710  Caucasian      M       Accident & Emergency         admit   \n",
      "91711  Caucasian      F       Accident & Emergency         admit   \n",
      "91712  Caucasian      F  Operating Room / Recovery         admit   \n",
      "\n",
      "           icu_type apache_3j_bodysystem apache_2_bodysystem  \n",
      "0             CTICU               Sepsis      Cardiovascular  \n",
      "1      Med-Surg ICU          Respiratory         Respiratory  \n",
      "2      Med-Surg ICU            Metabolic           Metabolic  \n",
      "3             CTICU       Cardiovascular      Cardiovascular  \n",
      "4      Med-Surg ICU               Trauma              Trauma  \n",
      "...             ...                  ...                 ...  \n",
      "91708   Cardiac ICU               Sepsis      Cardiovascular  \n",
      "91709  Med-Surg ICU               Sepsis      Cardiovascular  \n",
      "91710  Med-Surg ICU            Metabolic           Metabolic  \n",
      "91711  Med-Surg ICU          Respiratory         Respiratory  \n",
      "91712  Med-Surg ICU     Gastrointestinal    Gastrointestinal  \n",
      "\n",
      "[91713 rows x 7 columns]\n",
      "Number of positive numerical values: 8.630183289173836\n",
      "Number of negative numerical values: 91.36981671082617\n"
     ]
    }
   ],
   "source": [
    "X_num, X_cat, y, labels = load_heterogeneous_dataset(csv_filepath, debugging=True)"
   ]
  },
  {
   "cell_type": "markdown",
   "metadata": {},
   "source": [
    "## Step 2 : imput numerical and categorical missing values"
   ]
  },
  {
   "cell_type": "code",
   "execution_count": 6,
   "metadata": {},
   "outputs": [
    {
     "name": "stdout",
     "output_type": "stream",
     "text": [
      "X_cat_filled: [[2. 1. 1. ... 2. 9. 0.]\n",
      " [2. 0. 1. ... 5. 8. 6.]\n",
      " [2. 0. 0. ... 5. 5. 3.]\n",
      " ...\n",
      " [2. 1. 0. ... 5. 5. 3.]\n",
      " [2. 0. 0. ... 5. 8. 6.]\n",
      " [2. 0. 2. ... 5. 1. 1.]]\n",
      "X_num_imput: [[118.          68.          22.73       ...   0.           0.\n",
      "    0.        ]\n",
      " [ 81.          77.          27.42       ...   0.           0.\n",
      "    0.        ]\n",
      " [118.          25.          31.95       ...   0.           0.\n",
      "    0.        ]\n",
      " ...\n",
      " [195.          48.          27.23691351 ...   0.           0.\n",
      "    0.        ]\n",
      " [ 66.          62.30951592  23.29748133 ...   0.           0.\n",
      "    0.        ]\n",
      " [104.          82.          22.03125    ...   0.           0.\n",
      "    0.        ]]\n",
      "newDataset: [[2. 1. 1. ... 0. 0. 0.]\n",
      " [2. 0. 1. ... 0. 0. 0.]\n",
      " [2. 0. 0. ... 0. 0. 0.]\n",
      " ...\n",
      " [2. 1. 0. ... 0. 0. 0.]\n",
      " [2. 0. 0. ... 0. 0. 0.]\n",
      " [2. 0. 2. ... 0. 0. 0.]]\n"
     ]
    }
   ],
   "source": [
    "# the imputer function return the new dataset which is the concatenation of the imputed numerical and categorical data\n",
    "X_concat = imputer_variables(X_num, X_cat, debugging=True)"
   ]
  },
  {
   "cell_type": "markdown",
   "metadata": {},
   "source": [
    "## Step 3 : choose the criterion use as scoring method"
   ]
  },
  {
   "cell_type": "code",
   "execution_count": null,
   "metadata": {},
   "outputs": [],
   "source": []
  },
  {
   "cell_type": "markdown",
   "metadata": {},
   "source": [
    "## Step 4 : compare classifiers models with the cross validation method"
   ]
  },
  {
   "cell_type": "code",
   "execution_count": 11,
   "metadata": {},
   "outputs": [],
   "source": [
    "#create the classifier dictionary\n",
    "clfs = init_clfs()"
   ]
  },
  {
   "cell_type": "code",
   "execution_count": null,
   "metadata": {},
   "outputs": [],
   "source": [
    "bestClf, X_train, X_test, y_train, y_test, strategy = comparison_cross_validation(X_concat, y, clfs, n_splits=1, debugging=True)"
   ]
  },
  {
   "cell_type": "markdown",
   "metadata": {},
   "source": [
    "## Step 5 : variables selection"
   ]
  },
  {
   "cell_type": "code",
   "execution_count": null,
   "metadata": {},
   "outputs": [],
   "source": [
    "sorted_idx = feature_importance(X_train, y_train, labels, debugging=True)"
   ]
  },
  {
   "cell_type": "code",
   "execution_count": null,
   "metadata": {},
   "outputs": [],
   "source": [
    "nb_selected_features = feature_selection(X_train, X_test, y_train, y_test, bestClf, sorted_idx, debugging=True)"
   ]
  },
  {
   "cell_type": "markdown",
   "metadata": {},
   "source": [
    "## Step 6 : search best hyperparameters for the best classifier found"
   ]
  },
  {
   "cell_type": "code",
   "execution_count": 10,
   "metadata": {},
   "outputs": [],
   "source": [
    "#create the classifier parameters dictionary\n",
    "clfs_parameters = init_clfs_parameters()"
   ]
  },
  {
   "cell_type": "code",
   "execution_count": null,
   "metadata": {},
   "outputs": [
    {
     "name": "stdout",
     "output_type": "stream",
     "text": [
      "DecisionTreeClassifier\n",
      "{'criterion': ['gini', 'entropy'], 'splitter': ['best', 'random']}\n"
     ]
    }
   ],
   "source": [
    "# model = DecisionTreeClassifier()\n",
    "# print(DecisionTreeClassifier.__name__)\n",
    "# print(clfs_parameters[type(model)])"
   ]
  },
  {
   "cell_type": "code",
   "execution_count": null,
   "metadata": {},
   "outputs": [],
   "source": [
    "#select for this model the corresponding parameters grid\n",
    "param_grid = clfs_parameters[type(bestClf)]\n",
    "\n",
    "#update X_train with the selected features\n",
    "X_train_selected = X_train[:,sorted_idx[:nb_selected_features]]\n",
    "\n",
    "newBestClf = fine_tune_model(X_train_selected, y_train, bestClf, param_grid, debugging=True)"
   ]
  },
  {
   "cell_type": "markdown",
   "metadata": {},
   "source": [
    "## Step 7 : creation of the pickles file and the pipeline"
   ]
  },
  {
   "cell_type": "code",
   "execution_count": null,
   "metadata": {},
   "outputs": [],
   "source": []
  },
  {
   "cell_type": "markdown",
   "metadata": {},
   "source": [
    "## Step 8 : save the new dataset as a csv file"
   ]
  },
  {
   "cell_type": "code",
   "execution_count": null,
   "metadata": {},
   "outputs": [],
   "source": [
    "# replace the original ref_data.csv with the new data imputed\n",
    "csv_filepath = '../data/ref_data.csv'\n",
    "create_data_csv(X_concat, y, labels, csv_filepath, debugging=True)"
   ]
  }
 ],
 "metadata": {
  "kernelspec": {
   "display_name": "Python 3",
   "language": "python",
   "name": "python3"
  },
  "language_info": {
   "codemirror_mode": {
    "name": "ipython",
    "version": 3
   },
   "file_extension": ".py",
   "mimetype": "text/x-python",
   "name": "python",
   "nbconvert_exporter": "python",
   "pygments_lexer": "ipython3",
   "version": "3.12.9"
  }
 },
 "nbformat": 4,
 "nbformat_minor": 2
}
